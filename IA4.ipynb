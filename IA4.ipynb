{
  "nbformat": 4,
  "nbformat_minor": 0,
  "metadata": {
    "colab": {
      "provenance": [],
      "mount_file_id": "1OptHgCRmyUhIxfBUM9FOqRznhZGz3PTe",
      "authorship_tag": "ABX9TyN9QIlvmyNpmsAfQLZtn8P3",
      "include_colab_link": true
    },
    "kernelspec": {
      "name": "python3",
      "display_name": "Python 3"
    },
    "language_info": {
      "name": "python"
    }
  },
  "cells": [
    {
      "cell_type": "markdown",
      "metadata": {
        "id": "view-in-github",
        "colab_type": "text"
      },
      "source": [
        "<a href=\"https://colab.research.google.com/github/richardp123456/PersonalProjects/blob/main/IA4.ipynb\" target=\"_parent\"><img src=\"https://colab.research.google.com/assets/colab-badge.svg\" alt=\"Open In Colab\"/></a>"
      ]
    },
    {
      "cell_type": "code",
      "execution_count": 1,
      "metadata": {
        "colab": {
          "base_uri": "https://localhost:8080/"
        },
        "id": "L-cPFeQYaTAp",
        "outputId": "6998fce0-e655-4fa6-cd53-ce25f74e50b2"
      },
      "outputs": [
        {
          "output_type": "stream",
          "name": "stdout",
          "text": [
            "Collecting vaderSentiment\n",
            "  Downloading vaderSentiment-3.3.2-py2.py3-none-any.whl.metadata (572 bytes)\n",
            "Requirement already satisfied: requests in /usr/local/lib/python3.10/dist-packages (from vaderSentiment) (2.32.3)\n",
            "Requirement already satisfied: charset-normalizer<4,>=2 in /usr/local/lib/python3.10/dist-packages (from requests->vaderSentiment) (3.3.2)\n",
            "Requirement already satisfied: idna<4,>=2.5 in /usr/local/lib/python3.10/dist-packages (from requests->vaderSentiment) (3.10)\n",
            "Requirement already satisfied: urllib3<3,>=1.21.1 in /usr/local/lib/python3.10/dist-packages (from requests->vaderSentiment) (2.2.3)\n",
            "Requirement already satisfied: certifi>=2017.4.17 in /usr/local/lib/python3.10/dist-packages (from requests->vaderSentiment) (2024.8.30)\n",
            "Downloading vaderSentiment-3.3.2-py2.py3-none-any.whl (125 kB)\n",
            "\u001b[?25l   \u001b[90m━━━━━━━━━━━━━━━━━━━━━━━━━━━━━━━━━━━━━━━━\u001b[0m \u001b[32m0.0/126.0 kB\u001b[0m \u001b[31m?\u001b[0m eta \u001b[36m-:--:--\u001b[0m\r\u001b[2K   \u001b[90m━━━━━━━━━━━━━━━━━━━━━━━━━━━━━━━━━━━━━━━━\u001b[0m \u001b[32m126.0/126.0 kB\u001b[0m \u001b[31m3.9 MB/s\u001b[0m eta \u001b[36m0:00:00\u001b[0m\n",
            "\u001b[?25hInstalling collected packages: vaderSentiment\n",
            "Successfully installed vaderSentiment-3.3.2\n"
          ]
        }
      ],
      "source": [
        "pip install vaderSentiment\n"
      ]
    },
    {
      "cell_type": "code",
      "source": [
        "# Import necessary libraries\n",
        "import pandas as pd\n",
        "import numpy as np\n",
        "from vaderSentiment.vaderSentiment import SentimentIntensityAnalyzer\n",
        "\n",
        "# Load the CSV files\n",
        "sales_data = pd.read_csv('/content/daily_sales (2).csv')  # Use your actual file path\n",
        "reviews_data = pd.read_csv('/content/water_product_reviews_500_actual_names (1) (1).csv')  # Use your actual file path\n",
        "\n",
        "### Task 1: Sales Revenue Analysis ###\n",
        "# Clean sales data\n",
        "sales_data_cleaned = sales_data.iloc[2:].reset_index(drop=True)\n",
        "sales_data_cleaned.columns = ['Date', 'Daily Units Sold', 'Daily Unit Price', 'Daily Temperature (C)']\n",
        "\n",
        "# Convert columns to numeric where applicable\n",
        "sales_data_cleaned['Daily Units Sold'] = pd.to_numeric(sales_data_cleaned['Daily Units Sold'], errors='coerce')\n",
        "sales_data_cleaned['Daily Unit Price'] = pd.to_numeric(sales_data_cleaned['Daily Unit Price'], errors='coerce')\n",
        "sales_data_cleaned['Daily Temperature (C)'] = pd.to_numeric(sales_data_cleaned['Daily Temperature (C)'], errors='coerce')\n",
        "\n",
        "# Add a new column for daily revenue, Daily Units sold x sales data cleaned\n",
        "sales_data_cleaned['Daily Revenue'] = sales_data_cleaned['Daily Units Sold'] * sales_data_cleaned['Daily Unit Price']\n",
        "\n",
        "# Extract month from date and group by month\n",
        "sales_data_cleaned['Date'] = pd.to_datetime(sales_data_cleaned['Date'])\n",
        "sales_data_cleaned['Month'] = sales_data_cleaned['Date'].dt.strftime('%Y-%m')\n",
        "\n",
        "# Calculate monthly revenue and average temperature\n",
        "monthly_data = sales_data_cleaned.groupby('Month').agg(\n",
        "    Monthly_Revenue=('Daily Revenue', 'sum'),\n",
        "    Avg_Temperature=('Daily Temperature (C)', 'mean')\n",
        ").reset_index()\n",
        "\n",
        "# Identify months where revenue is below $40,000\n",
        "below_target_months = monthly_data[monthly_data['Monthly_Revenue'] < 40000]\n",
        "\n",
        "# Display below target months\n",
        "print(\"Months where revenue is below $40,000 and their respective average temperature:\")\n",
        "print(below_target_months)\n",
        "\n",
        "### Task 2: Customer Review Sentiment Analysis ###\n",
        "# Initialize SentimentIntensityAnalyzer\n",
        "analyzer = SentimentIntensityAnalyzer()\n",
        "\n",
        "# Define a function to label sentiment based on compound score\n",
        "def label_sentiment(review_text):\n",
        "    compound_score = analyzer.polarity_scores(review_text)['compound']\n",
        "    if compound_score >= 0.05:\n",
        "        return 'Positive'\n",
        "    elif compound_score <= -0.05:\n",
        "        return 'Negative'\n",
        "    else:\n",
        "        return 'Neutral'\n",
        "\n",
        "# Apply sentiment labeling to reviews\n",
        "reviews_data['sentiment'] = reviews_data['Review Text'].apply(label_sentiment)\n",
        "\n",
        "# Calculate the average rating for each sentiment category\n",
        "avg_rating_by_sentiment = reviews_data.groupby('sentiment').agg(Avg_Rating=('Rating', 'mean'))\n",
        "print(\"\\nAverage rating by sentiment category:\")\n",
        "print(avg_rating_by_sentiment)\n",
        "\n",
        "# Summarize total number of positive, neutral, and negative reviews for each month\n",
        "reviews_data['Review Date'] = pd.to_datetime(reviews_data['Review Date'])\n",
        "reviews_data['Month'] = reviews_data['Review Date'].dt.strftime('%Y-%m')\n",
        "review_summary_by_month = reviews_data.groupby(['Month', 'sentiment']).agg(Review_Count=('Rating', 'size')).unstack(fill_value=0)\n",
        "print(\"\\nReview count by month and sentiment:\")\n",
        "print(review_summary_by_month)\n",
        "\n",
        "# Calculate the average rating of reviews for each month\n",
        "avg_rating_by_month = reviews_data.groupby('Month').agg(Avg_Rating=('Rating', 'mean'))\n",
        "print(\"\\nAverage rating by month:\")\n",
        "print(avg_rating_by_month)\n",
        "\n",
        "# Save the dataframe with sentiment column to a CSV file\n",
        "sentiment_file_path = 'Pilz_R_sentiment.csv'\n",
        "reviews_data.to_csv(sentiment_file_path, index=False)\n",
        "print(f\"\\nData with sentiment saved to {sentiment_file_path}\")\n",
        "\n"
      ],
      "metadata": {
        "colab": {
          "base_uri": "https://localhost:8080/"
        },
        "id": "7eKMVYxraVkq",
        "outputId": "c00b4bdb-0eb4-48c0-9de6-3cbd78928390"
      },
      "execution_count": 3,
      "outputs": [
        {
          "output_type": "stream",
          "name": "stdout",
          "text": [
            "Months where revenue is below $40,000 and their respective average temperature:\n",
            "     Month  Monthly_Revenue  Avg_Temperature\n",
            "5  2024-06          35793.0        15.433333\n",
            "6  2024-07          35137.0        13.838710\n",
            "7  2024-08          22200.0        16.225806\n",
            "\n",
            "Average rating by sentiment category:\n",
            "           Avg_Rating\n",
            "sentiment            \n",
            "Negative     1.451923\n",
            "Neutral      3.000000\n",
            "Positive     4.187500\n",
            "\n",
            "Review count by month and sentiment:\n",
            "          Review_Count                 \n",
            "sentiment     Negative Neutral Positive\n",
            "Month                                  \n",
            "2023-01             13       3       15\n",
            "2023-02             14       4       10\n",
            "2023-03             10       3       18\n",
            "2023-04              6       2       22\n",
            "2023-05             19       0       12\n",
            "2023-06             11       1       18\n",
            "2023-07             17       3       11\n",
            "2023-08             13       2       16\n",
            "2023-09             19       0       11\n",
            "2023-10              9       3       19\n",
            "2023-11             11       1       18\n",
            "2023-12             16       2       13\n",
            "2024-01             16       1       14\n",
            "2024-02             11       2       16\n",
            "2024-03             10       4       17\n",
            "2024-04             10       0       20\n",
            "2024-05              3       5        6\n",
            "\n",
            "Average rating by month:\n",
            "         Avg_Rating\n",
            "Month              \n",
            "2023-01    2.870968\n",
            "2023-02    2.785714\n",
            "2023-03    3.290323\n",
            "2023-04    3.600000\n",
            "2023-05    2.387097\n",
            "2023-06    3.133333\n",
            "2023-07    2.741935\n",
            "2023-08    3.096774\n",
            "2023-09    2.400000\n",
            "2023-10    3.258065\n",
            "2023-11    3.233333\n",
            "2023-12    2.419355\n",
            "2024-01    2.741935\n",
            "2024-02    3.034483\n",
            "2024-03    3.129032\n",
            "2024-04    3.233333\n",
            "2024-05    3.142857\n",
            "\n",
            "Data with sentiment saved to Pilz_R_sentiment.csv\n"
          ]
        }
      ]
    },
    {
      "cell_type": "markdown",
      "source": [
        "### **Summary** ###\n",
        "- The sales revenue data identified months where sales were below $40,000, particularly in colder months like June, July, and August (in Australia).\n",
        "- Sentiment analysis of customer reviews categorized them as positive, neutral, or negative, with average ratings calculated for each category.\n",
        "- Review summary per month showed how customer sentiment varied over time, along with average ratings for each of the months.\n",
        "\n",
        "### **Interpretation** ###\n",
        "- The sales performance suggests a correlation between colder weather and lower sales, indicating that the WaterCure product might not be as appealing in cooler months.\n",
        "- Customer sentiment is mixed, with both positive and negative reviews. By examining the sentiment trends, WaterPro could improve product satisfaction based on the feedback.\n",
        "- The overall customer satisfaction allows us to gain insights into product improvement areas by looking at the average ratings."
      ],
      "metadata": {
        "id": "h_Mzvyq_J8z6"
      }
    },
    {
      "cell_type": "code",
      "source": [],
      "metadata": {
        "id": "_oKTFVKVbTUg"
      },
      "execution_count": null,
      "outputs": []
    }
  ]
}