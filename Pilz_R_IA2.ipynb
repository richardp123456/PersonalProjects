{
  "nbformat": 4,
  "nbformat_minor": 0,
  "metadata": {
    "colab": {
      "provenance": [],
      "authorship_tag": "ABX9TyPOfkNI5ID9TrPSjPfkVcyo",
      "include_colab_link": true
    },
    "kernelspec": {
      "name": "python3",
      "display_name": "Python 3"
    },
    "language_info": {
      "name": "python"
    }
  },
  "cells": [
    {
      "cell_type": "markdown",
      "metadata": {
        "id": "view-in-github",
        "colab_type": "text"
      },
      "source": [
        "<a href=\"https://colab.research.google.com/github/richardp123456/PersonalProjects/blob/main/Pilz_R_IA2.ipynb\" target=\"_parent\"><img src=\"https://colab.research.google.com/assets/colab-badge.svg\" alt=\"Open In Colab\"/></a>"
      ]
    },
    {
      "cell_type": "markdown",
      "source": [
        "# **Individual Assignment 2 - Data Structure and Control Flow**"
      ],
      "metadata": {
        "id": "QpeeREX2WQDt"
      }
    },
    {
      "cell_type": "code",
      "execution_count": null,
      "metadata": {
        "id": "BUdNgsJCSicq"
      },
      "outputs": [],
      "source": [
        "from scipy.stats import pearsonr"
      ]
    },
    {
      "cell_type": "markdown",
      "source": [
        "# Creation of both of the Dictionaries for the BobaWonder and WaterCure"
      ],
      "metadata": {
        "id": "A5dLLRQSSup1"
      }
    },
    {
      "cell_type": "code",
      "source": [
        "from scipy.stats import pearsonr\n",
        "\n",
        "boba_sales_per_month = {\n",
        "    'January': 900,\n",
        "    'February': 800,\n",
        "    'March': 639,\n",
        "    'April': 772,\n",
        "    'May': 682,\n",
        "    'June': 635,\n",
        "    'July': 538,\n",
        "    'August': 716\n",
        "}\n",
        "\n",
        "watercure_sales_per_month = {\n",
        "    'January': 890,\n",
        "    'February': 700,\n",
        "    'March': 523,\n",
        "    'April': 612,\n",
        "    'May': 661,\n",
        "    'June': 456,\n",
        "    'July': 435,\n",
        "    'August': 452\n",
        "}"
      ],
      "metadata": {
        "id": "SCFpW6_zVD_T"
      },
      "execution_count": null,
      "outputs": []
    },
    {
      "cell_type": "markdown",
      "source": [
        "# Step 2: Find the month with the highest and lowest sales for each product"
      ],
      "metadata": {
        "id": "ufW1bev6WIC6"
      }
    },
    {
      "cell_type": "code",
      "source": [
        "boba_highest_sales_month = max(boba_sales_per_month, key=boba_sales_per_month.get)\n",
        "boba_lowest_sales_month = min(boba_sales_per_month, key=boba_sales_per_month.get)\n",
        "\n",
        "watercure_highest_sales_month = max(watercure_sales_per_month, key=watercure_sales_per_month.get)\n",
        "watercure_lowest_sales_month = min(watercure_sales_per_month, key=watercure_sales_per_month.get)\n",
        "\n",
        "print(f\"BobaWonder - Highest Sales Month: {boba_highest_sales_month}, Sales: {boba_sales_per_month[boba_highest_sales_month]}\")\n",
        "print(f\"BobaWonder - Lowest Sales Month: {boba_lowest_sales_month}, Sales: {boba_sales_per_month[boba_lowest_sales_month]}\")\n",
        "print(f\"WaterCure - Highest Sales Month: {watercure_highest_sales_month}, Sales: {watercure_sales_per_month[watercure_highest_sales_month]}\")\n",
        "print(f\"WaterCure - Lowest Sales Month: {watercure_lowest_sales_month}, Sales: {watercure_sales_per_month[watercure_lowest_sales_month]}\")\n"
      ],
      "metadata": {
        "colab": {
          "base_uri": "https://localhost:8080/"
        },
        "id": "j4ZzQ-a8WIcN",
        "outputId": "232e6021-1436-4520-906f-e5af69c0d1af"
      },
      "execution_count": null,
      "outputs": [
        {
          "output_type": "stream",
          "name": "stdout",
          "text": [
            "BobaWonder - Highest Sales Month: January, Sales: 900\n",
            "BobaWonder - Lowest Sales Month: July, Sales: 538\n",
            "WaterCure - Highest Sales Month: January, Sales: 890\n",
            "WaterCure - Lowest Sales Month: July, Sales: 435\n"
          ]
        }
      ]
    },
    {
      "cell_type": "markdown",
      "source": [
        "# Step 3: Find months where sales revenue is over 750\n"
      ],
      "metadata": {
        "id": "prIh9h8xXWv9"
      }
    },
    {
      "cell_type": "code",
      "source": [
        "print(\"\\nMonths where BobaWonder sales were over 750:\")\n",
        "for month, sales in boba_sales_per_month.items():\n",
        "    if sales > 750:\n",
        "        print(f\"{month}: {sales}\")\n",
        "\n",
        "print(\"\\nMonths where WaterCure sales were over 750:\")\n",
        "for month, sales in watercure_sales_per_month.items():\n",
        "    if sales > 750:\n",
        "        print(f\"{month}: {sales}\")"
      ],
      "metadata": {
        "colab": {
          "base_uri": "https://localhost:8080/"
        },
        "id": "VJuXXDu-XXdr",
        "outputId": "acac4d5e-e93c-4b2c-e340-e9c3b527ffc6"
      },
      "execution_count": null,
      "outputs": [
        {
          "output_type": "stream",
          "name": "stdout",
          "text": [
            "\n",
            "Months where BobaWonder sales were over 750:\n",
            "January: 900\n",
            "February: 800\n",
            "April: 772\n",
            "\n",
            "Months where WaterCure sales were over 750:\n",
            "January: 890\n"
          ]
        }
      ]
    },
    {
      "cell_type": "markdown",
      "source": [
        "# Step 4: Calculate Pearson correlation coefficient"
      ],
      "metadata": {
        "id": "PgicFt48Xqct"
      }
    },
    {
      "cell_type": "code",
      "source": [
        "bobawonder_list = list(boba_sales_per_month.values())\n",
        "watercure_list = list(watercure_sales_per_month.values())\n",
        "\n",
        "correlation_coefficient, p_value = pearsonr(bobawonder_list, watercure_list)\n",
        "print(f\"\\nPearson Correlation Coefficient between BobaWonder and WaterCure sales: {correlation_coefficient:.3f}\")"
      ],
      "metadata": {
        "colab": {
          "base_uri": "https://localhost:8080/"
        },
        "id": "dIZCWVyCXqDO",
        "outputId": "b9bd539b-e129-45f8-9550-f32afccb30c9"
      },
      "execution_count": null,
      "outputs": [
        {
          "output_type": "stream",
          "name": "stdout",
          "text": [
            "\n",
            "Pearson Correlation Coefficient between BobaWonder and WaterCure sales: 0.861\n"
          ]
        }
      ]
    },
    {
      "cell_type": "markdown",
      "source": [
        "# Step 5: Print the final results"
      ],
      "metadata": {
        "id": "58vnBDCEX7o9"
      }
    },
    {
      "cell_type": "code",
      "source": [
        "if correlation_coefficient > 0.7:\n",
        "    print(f\"There is a clear strong positive correlation ({correlation_coefficient:.3f}) between BobaWonder and WaterCure sales.\")\n",
        "elif 0.3 < correlation_coefficient <= 0.7:\n",
        "    print(\"There is a moderate positive correlation ({correlation_coefficient:.3f}) between BobaWonder and WaterCure sales.\")\n",
        "elif -0.3 <= correlation_coefficient <= 0.3:\n",
        "    print(\"There is little to no correlation ({correlation_coefficient:.3f}) between BobaWonder and WaterCure sales.\")\n",
        "elif -0.7 <= correlation_coefficient < -0.3:\n",
        "    print(\"There is a moderate negative correlation ({correlation_coefficient:.3f} between BobaWonder and WaterCure sales.\")\n",
        "else:\n",
        "    print(\"There is a clear strong negative correlation ({correlation_coefficient:.3f}) between BobaWonder and WaterCure sales.\")\n",
        "print(f\"The P-Value is {p_value:.5f}\")"
      ],
      "metadata": {
        "colab": {
          "base_uri": "https://localhost:8080/"
        },
        "id": "doQivwSBX7yK",
        "outputId": "0038e315-8762-4c3d-880b-6edecff280d6"
      },
      "execution_count": null,
      "outputs": [
        {
          "output_type": "stream",
          "name": "stdout",
          "text": [
            "There is a clear strong positive correlation (0.861) between BobaWonder and WaterCure sales.\n",
            "The P-Value is 0.00607\n"
          ]
        }
      ]
    }
  ]
}